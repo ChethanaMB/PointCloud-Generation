{
 "cells": [
  {
   "cell_type": "code",
   "execution_count": 1,
   "id": "91645e61",
   "metadata": {},
   "outputs": [
    {
     "data": {
      "application/vnd.jupyter.widget-view+json": {
       "model_id": "",
       "version_major": 2,
       "version_minor": 0
      },
      "text/plain": [
       "JVisualizer with 1 geometries"
      ]
     },
     "metadata": {},
     "output_type": "display_data"
    }
   ],
   "source": [
    "import numpy as np\n",
    "import open3d as o3d\n",
    "from open3d import JVisualizer\n",
    "\n",
    "def main():\n",
    "    cloud = o3d.io.read_point_cloud(\"/home/chethana/Outputs/20220111_163143/pcds/20220111_163143/pcd_left_5.ply\") # Read the point cloud\n",
    "    \n",
    "    visualizer = JVisualizer()\n",
    "    visualizer.add_geometry(cloud)\n",
    "    visualizer.show()\n",
    "    \n",
    "#     o3d.JVisualizer([cloud]) # Visualize the point cloud     \n",
    "\n",
    "if __name__ == \"__main__\":\n",
    "    main()"
   ]
  },
  {
   "cell_type": "code",
   "execution_count": 5,
   "id": "47ff8e85",
   "metadata": {},
   "outputs": [
    {
     "name": "stdout",
     "output_type": "stream",
     "text": [
      "Object `JVisualizer()` not found.\n"
     ]
    }
   ],
   "source": [
    "?JVisualizer()"
   ]
  },
  {
   "cell_type": "code",
   "execution_count": null,
   "id": "bdffd722",
   "metadata": {},
   "outputs": [],
   "source": []
  }
 ],
 "metadata": {
  "kernelspec": {
   "display_name": "Python 3 (ipykernel)",
   "language": "python",
   "name": "python3"
  },
  "language_info": {
   "codemirror_mode": {
    "name": "ipython",
    "version": 3
   },
   "file_extension": ".py",
   "mimetype": "text/x-python",
   "name": "python",
   "nbconvert_exporter": "python",
   "pygments_lexer": "ipython3",
   "version": "3.8.13"
  }
 },
 "nbformat": 4,
 "nbformat_minor": 5
}
