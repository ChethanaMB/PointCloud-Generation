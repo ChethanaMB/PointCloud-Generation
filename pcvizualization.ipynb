{
 "cells": [
  {
   "cell_type": "code",
   "execution_count": 2,
   "id": "91645e61",
   "metadata": {},
   "outputs": [
    {
     "data": {
      "application/vnd.jupyter.widget-view+json": {
       "model_id": "f5ed6bb190ab4f1393b5c8c32b27f26f",
       "version_major": 2,
       "version_minor": 0
      },
      "text/plain": [
       "JVisualizer with 1 geometries"
      ]
     },
     "metadata": {},
     "output_type": "display_data"
    }
   ],
   "source": [
    "import numpy as np\n",
    "import open3d as o3d\n",
    "from open3d import JVisualizer\n",
    "\n",
    "def main():\n",
    "    cloud = o3d.io.read_point_cloud(\"/home/chethana/Outputs/20220111_163143/pcds/20220111_163143/pcd_left_5.ply\") # Read the point cloud\n",
    "    \n",
    "    visualizer = JVisualizer()\n",
    "    visualizer.add_geometry(cloud)\n",
    "    visualizer.show()\n",
    "    \n",
    "#     o3d.JVisualizer([cloud]) # Visualize the point cloud     \n",
    "\n",
    "if __name__ == \"__main__\":\n",
    "    main()"
   ]
  },
  {
   "cell_type": "code",
   "execution_count": 5,
   "id": "47ff8e85",
   "metadata": {},
   "outputs": [
    {
     "name": "stdout",
     "output_type": "stream",
     "text": [
      "Object `JVisualizer()` not found.\n"
     ]
    }
   ],
   "source": [
    "?JVisualizer()"
   ]
  },
  {
   "cell_type": "code",
   "execution_count": 7,
   "id": "bdffd722",
   "metadata": {},
   "outputs": [
    {
     "ename": "AttributeError",
     "evalue": "module 'open3d.cuda.pybind.geometry' has no attribute 'voxel_down_sample'",
     "output_type": "error",
     "traceback": [
      "\u001b[0;31m---------------------------------------------------------------------------\u001b[0m",
      "\u001b[0;31mAttributeError\u001b[0m                            Traceback (most recent call last)",
      "Input \u001b[0;32mIn [7]\u001b[0m, in \u001b[0;36m<cell line: 2>\u001b[0;34m()\u001b[0m\n\u001b[1;32m      1\u001b[0m voxel_size \u001b[38;5;241m=\u001b[39m \u001b[38;5;241m0.05\u001b[39m\n\u001b[0;32m----> 2\u001b[0m pcd_down \u001b[38;5;241m=\u001b[39m \u001b[43mo3d\u001b[49m\u001b[38;5;241;43m.\u001b[39;49m\u001b[43mgeometry\u001b[49m\u001b[38;5;241;43m.\u001b[39;49m\u001b[43mvoxel_down_sample\u001b[49m(cloud,voxel_size)\n",
      "\u001b[0;31mAttributeError\u001b[0m: module 'open3d.cuda.pybind.geometry' has no attribute 'voxel_down_sample'"
     ]
    }
   ],
   "source": [
    "voxel_size = 0.05\n",
    "pcd_down = o3d.geometry.voxel_down_sample(cloud,voxel_size)"
   ]
  },
  {
   "cell_type": "code",
   "execution_count": null,
   "id": "4313edd8",
   "metadata": {},
   "outputs": [],
   "source": []
  }
 ],
 "metadata": {
  "kernelspec": {
   "display_name": "Python 3 (ipykernel)",
   "language": "python",
   "name": "python3"
  },
  "language_info": {
   "codemirror_mode": {
    "name": "ipython",
    "version": 3
   },
   "file_extension": ".py",
   "mimetype": "text/x-python",
   "name": "python",
   "nbconvert_exporter": "python",
   "pygments_lexer": "ipython3",
   "version": "3.8.13"
  }
 },
 "nbformat": 4,
 "nbformat_minor": 5
}
